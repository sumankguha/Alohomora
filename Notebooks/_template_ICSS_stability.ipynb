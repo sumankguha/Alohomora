{
 "cells": [
  {
   "cell_type": "markdown",
   "metadata": {},
   "source": [
    "# ICSS data processing for cohort\\<insert cohort number here>\n",
    "\\<insert cohort information here. E.g., PM ICSS group\n",
    " \n",
    "**Group information:**\n",
    " \n",
    "|Sex    | ICSS+ShA | ICSS+LgA   |\n",
    "|:-----:|:--------:|:----------:|\n",
    "|Males  |          |            |\n",
    "|-------|----------|------------|\n",
    "|Females|          |            |\n",
    "|-------|----------|------------|\n",
    " \n",
    "**OUTLINE:**\n",
    " \n",
    "1. Setting variables\n",
    "2. Preprocessing data\n",
    "    1. Running `preprocessICSSFiles -f $filename` script \n",
    "    2. Collating all the \\.csv files that the script generates into one data table\n",
    "    3. Assign datatype to columns\n",
    "3. Plotting raw data\n",
    "\n",
    "3. Annotating data\n",
    "5. Normalizing data\n",
    "    1. Consistency between pre- and post-surgery days\n",
    "    2. Calculate baseline\n",
    "    3. Normalize to baseline\n",
    "        1. Theta0\n",
    "        2. M50\n",
    "        3. MaxRate\n",
    "6. Saving data \n",
    "    1. Long form for R\n",
    "        1. Collated raw data for for all passes\n",
    "            1. Theta0\n",
    "            2. M50\n",
    "            3. MaxRate\n",
    "        2. Collated means for for Pass 2-4\n",
    "            1. Theta0\n",
    "            2. M50\n",
    "            3. MaxRate\n",
    "        3. Normalized means for Pass 2-4\n",
    "            1. Theta0\n",
    "            2. M50\n",
    "            3. MaxRate\n",
    "    2. Wide form for prism\n",
    "---"
   ]
  }
 ],
 "metadata": {
  "kernelspec": {
   "display_name": "Python 3",
   "language": "python",
   "name": "python3"
  },
  "language_info": {
   "codemirror_mode": {
    "name": "ipython",
    "version": 3
   },
   "file_extension": ".py",
   "mimetype": "text/x-python",
   "name": "python",
   "nbconvert_exporter": "python",
   "pygments_lexer": "ipython3",
   "version": "3.7.0"
  }
 },
 "nbformat": 4,
 "nbformat_minor": 2
}
