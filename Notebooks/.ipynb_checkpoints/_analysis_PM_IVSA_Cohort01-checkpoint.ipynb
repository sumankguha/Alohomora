{
 "cells": [
  {
   "cell_type": "markdown",
   "metadata": {},
   "source": [
    "# IVSA analysis of cohort01\n",
    "\n",
    "**Note:**\n",
    "Edits made to IVSA original file !2019-04-05 to remove data of Cohort02\n",
    "\n",
    "**METADATA:**\n",
    "\n",
    "|Sex    | ICSS+ShA | ICSS+LgA   | NO-ICSS+ShA | NO-ICSS+LgA |\n",
    "|:-----:|:--------:|:----------:|:-----------:|:-----------:|\n",
    "|Males  | SG17     | SG15       | SG11        | SG23        |\n",
    "|-------|----------|------------|-------------|-------------|\n",
    "|Females| SG14     | SG24, SG20 | SG16        | SG26        |\n",
    "|-------|----------|------------|-------------|-------------|\n",
    "\n",
    "**OUTLINE:**\n",
    "\n",
    "---"
   ]
  },
  {
   "cell_type": "code",
   "execution_count": 6,
   "metadata": {},
   "outputs": [
    {
     "name": "stdout",
     "output_type": "stream",
     "text": [
      "The rpy2.ipython extension is already loaded. To reload it, use:\n",
      "  %reload_ext rpy2.ipython\n"
     ]
    }
   ],
   "source": [
    "%load_ext rpy2.ipython"
   ]
  },
  {
   "cell_type": "code",
   "execution_count": 10,
   "metadata": {},
   "outputs": [],
   "source": [
    "%%R\n",
    "library(tidyverse)\n",
    "library(lubridate)"
   ]
  },
  {
   "cell_type": "markdown",
   "metadata": {},
   "source": [
    "---\n",
    "## 1. Load data"
   ]
  },
  {
   "cell_type": "code",
   "execution_count": 14,
   "metadata": {},
   "outputs": [
    {
     "name": "stderr",
     "output_type": "stream",
     "text": [
      "R[write to console]: Parsed with column specification:\n",
      "cols(\n",
      "  date = col_date(format = \"\"),\n",
      "  cohort = col_character(),\n",
      "  regimen = col_character(),\n",
      "  group = col_character(),\n",
      "  subjectID = col_character(),\n",
      "  eventType = col_character(),\n",
      "  eventTime = col_double()\n",
      ")\n",
      "\n"
     ]
    }
   ],
   "source": [
    "%%R\n",
    "IVSA_dataDir <- \"~/Dropbox (Partners HealthCare)/Projects/R01_2017_OxycSA-NASh-Glutamate/_data_R01_2017/_data_R01_2017_IVSA/Male-Female/ShA+LgA/PM_ICSS/Cohort01/_csvFiles\"\n",
    "IVSA_data <- read_csv(file.path(IVSA_dataDir,\"_ivsaData_cohort01.csv\"))"
   ]
  },
  {
   "cell_type": "code",
   "execution_count": 13,
   "metadata": {},
   "outputs": [
    {
     "ename": "NameError",
     "evalue": "name 'IVSA_data' is not defined",
     "output_type": "error",
     "traceback": [
      "\u001b[0;31m---------------------------------------------------------------------------\u001b[0m",
      "\u001b[0;31mNameError\u001b[0m                                 Traceback (most recent call last)",
      "\u001b[0;32m<ipython-input-13-e9baee4344ee>\u001b[0m in \u001b[0;36m<module>\u001b[0;34m\u001b[0m\n\u001b[0;32m----> 1\u001b[0;31m \u001b[0mIVSA_data\u001b[0m\u001b[0;34m\u001b[0m\u001b[0;34m\u001b[0m\u001b[0m\n\u001b[0m",
      "\u001b[0;31mNameError\u001b[0m: name 'IVSA_data' is not defined"
     ]
    }
   ],
   "source": [
    "IVSA_data"
   ]
  },
  {
   "cell_type": "code",
   "execution_count": null,
   "metadata": {},
   "outputs": [],
   "source": []
  }
 ],
 "metadata": {
  "kernelspec": {
   "display_name": "Python 3",
   "language": "python",
   "name": "python3"
  },
  "language_info": {
   "codemirror_mode": {
    "name": "ipython",
    "version": 3
   },
   "file_extension": ".py",
   "mimetype": "text/x-python",
   "name": "python",
   "nbconvert_exporter": "python",
   "pygments_lexer": "ipython3",
   "version": "3.7.2"
  }
 },
 "nbformat": 4,
 "nbformat_minor": 2
}
