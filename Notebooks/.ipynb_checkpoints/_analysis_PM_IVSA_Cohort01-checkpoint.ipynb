{
 "cells": [
  {
   "cell_type": "markdown",
   "metadata": {},
   "source": [
    "# IVSA analysis of cohort01\n",
    "\n",
    "**Note:**\n",
    "Edits made to IVSA original file !2019-04-05 to remove data of Cohort02\n",
    "\n",
    "**METADATA:**\n",
    "\n",
    "|Sex    | ICSS+ShA | ICSS+LgA   | NO-ICSS+ShA | NO-ICSS+LgA |\n",
    "|:-----:|:--------:|:----------:|:-----------:|:-----------:|\n",
    "|Males  | SG17     | SG15       | SG11        | SG23        |\n",
    "|-------|----------|------------|-------------|-------------|\n",
    "|Females| SG14     | SG24, SG20 | SG16        | SG26        |\n",
    "|-------|----------|------------|-------------|-------------|\n",
    "\n",
    "**OUTLINE:**\n",
    "\n",
    "---"
   ]
  },
  {
   "cell_type": "code",
   "execution_count": 6,
   "metadata": {},
   "outputs": [
    {
     "name": "stdout",
     "output_type": "stream",
     "text": [
      "The rpy2.ipython extension is already loaded. To reload it, use:\n",
      "  %reload_ext rpy2.ipython\n"
     ]
    }
   ],
   "source": [
    "%load_ext rpy2.ipython"
   ]
  },
  {
   "cell_type": "code",
   "execution_count": 10,
   "metadata": {},
   "outputs": [],
   "source": [
    "%%R\n",
    "library(tidyverse)\n",
    "library(lubridate)"
   ]
  },
  {
   "cell_type": "markdown",
   "metadata": {},
   "source": [
    "---\n",
    "## 1. Load data"
   ]
  },
  {
   "cell_type": "code",
   "execution_count": 17,
   "metadata": {},
   "outputs": [],
   "source": [
    "%%capture\n",
    "%%R\n",
    "IVSA_dataDir <- \"~/Dropbox (Partners HealthCare)/Projects/R01_2017_OxycSA-NASh-Glutamate/_data_R01_2017/_data_R01_2017_IVSA/Male-Female/ShA+LgA/PM_ICSS/Cohort01/_csvFiles\"\n",
    "IVSA_data <- read_csv(file.path(IVSA_dataDir,\"_ivsaData_cohort01.csv\"))"
   ]
  },
  {
   "cell_type": "code",
   "execution_count": 18,
   "metadata": {},
   "outputs": [
    {
     "data": {
      "text/plain": [
       "\u001b[90m# A tibble: 25,190 x 7\u001b[39m\n",
       "   date       cohort    regimen group   subjectID eventType eventTime\n",
       "   \u001b[3m\u001b[90m<date>\u001b[39m\u001b[23m     \u001b[3m\u001b[90m<chr>\u001b[39m\u001b[23m     \u001b[3m\u001b[90m<chr>\u001b[39m\u001b[23m   \u001b[3m\u001b[90m<chr>\u001b[39m\u001b[23m   \u001b[3m\u001b[90m<chr>\u001b[39m\u001b[23m     \u001b[3m\u001b[90m<chr>\u001b[39m\u001b[23m         \u001b[3m\u001b[90m<dbl>\u001b[39m\u001b[23m\n",
       "\u001b[90m 1\u001b[39m 2019-02-20 ICSS+IVSA 1H      FEMALES SG14      rewards          49\n",
       "\u001b[90m 2\u001b[39m 2019-02-20 ICSS+IVSA 1H      FEMALES SG14      rewards         323\n",
       "\u001b[90m 3\u001b[39m 2019-02-20 ICSS+IVSA 1H      FEMALES SG14      rewards         853\n",
       "\u001b[90m 4\u001b[39m 2019-02-20 ICSS+IVSA 1H      FEMALES SG14      rewards        \u001b[4m2\u001b[24m600\n",
       "\u001b[90m 5\u001b[39m 2019-02-20 ICSS+IVSA 1H      FEMALES SG14      rewards        \u001b[4m2\u001b[24m616\n",
       "\u001b[90m 6\u001b[39m 2019-02-20 ICSS+IVSA 1H      FEMALES SG14      rewards        \u001b[4m2\u001b[24m697\n",
       "\u001b[90m 7\u001b[39m 2019-02-20 ICSS+IVSA 1H      FEMALES SG14      corrLever        49\n",
       "\u001b[90m 8\u001b[39m 2019-02-20 ICSS+IVSA 1H      FEMALES SG14      corrLever        49\n",
       "\u001b[90m 9\u001b[39m 2019-02-20 ICSS+IVSA 1H      FEMALES SG14      corrLever       323\n",
       "\u001b[90m10\u001b[39m 2019-02-20 ICSS+IVSA 1H      FEMALES SG14      corrLever       324\n",
       "\u001b[90m# ... with 25,180 more rows\u001b[39m\n"
      ]
     },
     "metadata": {},
     "output_type": "display_data"
    }
   ],
   "source": [
    "%%R\n",
    "IVSA_data %>% print"
   ]
  },
  {
   "cell_type": "code",
   "execution_count": null,
   "metadata": {},
   "outputs": [],
   "source": [
    "%%R\n",
    "# This needs to be defined after loading the dataset\n",
    "# Ideal data types\n",
    "# date   |  cohort  | regimen  |   group  |  subjectID   |  eventType  | eventTime\n",
    "# <date> | <factor> | <factor> | <factor> |   <factor>   |   <factor>  |  <num>\n"
   ]
  }
 ],
 "metadata": {
  "kernelspec": {
   "display_name": "Python 3",
   "language": "python",
   "name": "python3"
  },
  "language_info": {
   "codemirror_mode": {
    "name": "ipython",
    "version": 3
   },
   "file_extension": ".py",
   "mimetype": "text/x-python",
   "name": "python",
   "nbconvert_exporter": "python",
   "pygments_lexer": "ipython3",
   "version": "3.7.2"
  }
 },
 "nbformat": 4,
 "nbformat_minor": 2
}
