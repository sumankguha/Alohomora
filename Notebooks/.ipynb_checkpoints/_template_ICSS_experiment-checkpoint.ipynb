{
 "cells": [
  {
   "cell_type": "markdown",
   "metadata": {},
   "source": [
    "# ICSS data processing for cohort\\<insert cohort number here>\n",
    "\\<insert cohort information here. E.g., PM ICSS group\n",
    " \n",
    "**Group information:**\n",
    " \n",
    "|Sex    | ICSS+ShA | ICSS+LgA   |\n",
    "|:-----:|:--------:|:----------:|\n",
    "|Males  |          |            |\n",
    "|-------|----------|------------|\n",
    "|Females|          |            |\n",
    "|-------|----------|------------|\n",
    " \n",
    "**OUTLINE:**\n",
    " "
   ]
  }
 ],
 "metadata": {
  "kernelspec": {
   "display_name": "Python 3",
   "language": "python",
   "name": "python3"
  },
  "language_info": {
   "codemirror_mode": {
    "name": "ipython",
    "version": 3
   },
   "file_extension": ".py",
   "mimetype": "text/x-python",
   "name": "python",
   "nbconvert_exporter": "python",
   "pygments_lexer": "ipython3",
   "version": "3.7.0"
  }
 },
 "nbformat": 4,
 "nbformat_minor": 2
}
