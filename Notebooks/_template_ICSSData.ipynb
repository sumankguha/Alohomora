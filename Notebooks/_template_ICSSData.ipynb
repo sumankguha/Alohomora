{
 "cells": [
  {
   "cell_type": "markdown",
   "metadata": {},
   "source": [
    "# ICSS Data analysis script\n",
    "\n",
    "## README\n",
    "A template to analyze ICSS data from output files to plot. The motivation is to perform reproducible research by standardizing the steps that are performed for data analysis and statistical inference. \n",
    "\n",
    "### OUTLINE:\n",
    "0. Prerequisite: CSV files of ICSS data files generated using the script written by Steve Cabilio\n",
    "1. Preprocessing\n",
    "2. \n",
    "\n",
    "---\n",
    "\n",
    "### Author(s): Suman K. Guha"
   ]
  },
  {
   "cell_type": "code",
   "execution_count": null,
   "metadata": {},
   "outputs": [],
   "source": []
  }
 ],
 "metadata": {
  "kernelspec": {
   "display_name": "Python 3",
   "language": "python",
   "name": "python3"
  },
  "language_info": {
   "codemirror_mode": {
    "name": "ipython",
    "version": 3
   },
   "file_extension": ".py",
   "mimetype": "text/x-python",
   "name": "python",
   "nbconvert_exporter": "python",
   "pygments_lexer": "ipython3",
   "version": "3.7.0"
  }
 },
 "nbformat": 4,
 "nbformat_minor": 2
}
