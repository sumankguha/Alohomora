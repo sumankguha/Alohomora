{
 "cells": [
  {
   "cell_type": "markdown",
   "metadata": {},
   "source": [
    "# IVSA data processing of cohort01\n",
    "\n",
    "**Note:**\n",
    "Edits made to IVSA original file !2019-04-05 to remove data of Cohort02\n",
    "\n",
    "**METADATA:**\n",
    "\n",
    "|Sex    | ICSS+ShA | ICSS+LgA   | NO-ICSS+ShA | NO-ICSS+LgA |\n",
    "|:-----:|:--------:|:----------:|:-----------:|:-----------:|\n",
    "|Males  | SG17     | SG15       | SG11        | SG23        |\n",
    "|-------|----------|------------|-------------|-------------|\n",
    "|Females| SG14     | SG24, SG20 | SG16        | SG26        |\n",
    "|-------|----------|------------|-------------|-------------|\n",
    "\n",
    "**OUTLINE:**\n",
    "\n",
    "1. Preprocessing data\n",
    "    1. Cleaning\n",
    "    2. Annotating\n",
    "    3. Overview\n",
    "2. Normalizing data\n",
    "    1.\n",
    "    2.\n",
    "    3. \n",
    "3. Plotting data\n",
    "    1. Raw values\n",
    "        1. Pass 1-4\n",
    "        2. Pass 2-4\n",
    "    2. Normalized values (Pass 2-4)\n",
    "    3. Normalized values (Mean of Passes 2-4)\n",
    "4. Saving data in 'Prism' friendly format\n",
    "---"
   ]
  },
  {
   "cell_type": "code",
   "execution_count": 37,
   "metadata": {},
   "outputs": [],
   "source": [
    "%%bash\n",
    "# # using the preprocessIVSAFiles script to parse MedPC files and generating csv files that has different event types\n",
    "# # defining userName to make running the cell in machine agnostic manner\n",
    "# userName=$(echo $USER)\n",
    "# \n",
    "# # We move to the folder where the cohort data is stored\n",
    "# # cd </path/to/cohort/data>\n",
    "# cd /Users/$userName/Dropbox\\ \\(Partners\\ HealthCare\\)/Projects/R01_2017_OxycSA-NASh-Glutamate/_data_R01_2017/_data_R01_2017_IVSA/Male-Female/ShA+LgA/PM_ICSS/Cohort01/_rigFiles\n",
    "# \n",
    "# # running the preprocessing script over all files in the directory\n",
    "# for fileName in $(ls \\!2019-0* | sort)\n",
    "# do\n",
    "#     preprocessIVSAFiles --file $fileName;\n",
    "# done"
   ]
  },
  {
   "cell_type": "code",
   "execution_count": 1,
   "metadata": {},
   "outputs": [],
   "source": [
    "%load_ext rpy2.ipython"
   ]
  },
  {
   "cell_type": "code",
   "execution_count": 5,
   "metadata": {},
   "outputs": [],
   "source": [
    "%%capture\n",
    "%%R\n",
    "library(tidyverse)\n",
    "library(lubridate)"
   ]
  },
  {
   "cell_type": "code",
   "execution_count": null,
   "metadata": {},
   "outputs": [],
   "source": [
    "%%capture\n",
    "%%bash\n",
    "# # using collateIVSAData to collate all the data into a single data frame of the format ...\n",
    "# # DATA TABLE DESCRIPTION:\n",
    "# # \n",
    "# #   date       |  cohort      | regimen   | group | subjectID | eventType   | eventTime\n",
    "# #   -----------|--------------|-----------|-------|-----------|-------------|-----------\n",
    "# #   2018-10-30 |  ICSS+IVSA   | 6H        | MALES | SG7       | rewards     | ...\n",
    "# #   -----------|--------------|-----------|-------|-----------|-------------|-----------\n",
    "# #   2018-10-30 |  ICSS+IVSA   | 6H        | MALES | SG7       | corrLever   | ...\n",
    "# #   -----------|--------------|-----------|-------|-----------|-------------|-----------\n",
    "# #   2018-10-30 |  ICSS+IVSA   | 6H        | MALES | SG7       | incorrLever | ...\n",
    "# #   ...\n",
    "# #   ...\n",
    "# #   ...\n",
    "# \n",
    "# userName=$(echo $USER)\n",
    "# \n",
    "# # We move to the folder where the cohort files are stored\n",
    "# # cd </path/to/cohort/data>\n",
    "# cd /Users/$userName/Dropbox\\ \\(Partners\\ HealthCare\\)/Projects/R01_2017_OxycSA-NASh-Glutamate/_data_R01_2017/_data_R01_2017_IVSA/Male-Female/ShA+LgA/PM_ICSS/Cohort01/_csvFiles\n",
    "# \n",
    "# # running the preprocessing script over all files in the directory\n",
    "# for fileName in $(ls *rewards.csv | sort)\n",
    "# do\n",
    "#     collateIVSAData $fileName;\n",
    "# done"
   ]
  },
  {
   "cell_type": "code",
   "execution_count": 6,
   "metadata": {},
   "outputs": [],
   "source": [
    "%%capture\n",
    "%%R\n",
    "# loading data: set the path to \n",
    "IVSA_dataDir <- \"~/Dropbox (Partners HealthCare)/Projects/R01_2017_OxycSA-NASh-Glutamate/_data_R01_2017/_data_R01_2017_IVSA/Male-Female/ShA+LgA/PM_ICSS/Cohort01/_csvFiles\"\n",
    "IVSA_fileList <- list.files(path = IVSA_dataDir, pattern = \"collated.csv\")\n",
    "## generating combined data table\n",
    "IVSA_data <- IVSA_fileList %>% map(~ read_csv(file.path(IVSA_dataDir, .))) %>% reduce(rbind)"
   ]
  },
  {
   "cell_type": "code",
   "execution_count": 7,
   "metadata": {},
   "outputs": [
    {
     "data": {
      "text/plain": [
       "\u001b[90m# A tibble: 26,708 x 7\u001b[39m\n",
       "   date       cohort    regimen group   subjectID eventType eventTime\n",
       "   \u001b[3m\u001b[90m<date>\u001b[39m\u001b[23m     \u001b[3m\u001b[90m<chr>\u001b[39m\u001b[23m     \u001b[3m\u001b[90m<chr>\u001b[39m\u001b[23m   \u001b[3m\u001b[90m<chr>\u001b[39m\u001b[23m   \u001b[3m\u001b[90m<chr>\u001b[39m\u001b[23m     \u001b[3m\u001b[90m<chr>\u001b[39m\u001b[23m         \u001b[3m\u001b[90m<int>\u001b[39m\u001b[23m\n",
       "\u001b[90m 1\u001b[39m 2019-02-20 ICSS+IVSA 1H      FEMALES SG14      rewards          49\n",
       "\u001b[90m 2\u001b[39m 2019-02-20 ICSS+IVSA 1H      FEMALES SG14      rewards         323\n",
       "\u001b[90m 3\u001b[39m 2019-02-20 ICSS+IVSA 1H      FEMALES SG14      rewards         853\n",
       "\u001b[90m 4\u001b[39m 2019-02-20 ICSS+IVSA 1H      FEMALES SG14      rewards        \u001b[4m2\u001b[24m600\n",
       "\u001b[90m 5\u001b[39m 2019-02-20 ICSS+IVSA 1H      FEMALES SG14      rewards        \u001b[4m2\u001b[24m616\n",
       "\u001b[90m 6\u001b[39m 2019-02-20 ICSS+IVSA 1H      FEMALES SG14      rewards        \u001b[4m2\u001b[24m697\n",
       "\u001b[90m 7\u001b[39m 2019-02-20 ICSS+IVSA 1H      FEMALES SG14      corrLever        49\n",
       "\u001b[90m 8\u001b[39m 2019-02-20 ICSS+IVSA 1H      FEMALES SG14      corrLever        49\n",
       "\u001b[90m 9\u001b[39m 2019-02-20 ICSS+IVSA 1H      FEMALES SG14      corrLever       323\n",
       "\u001b[90m10\u001b[39m 2019-02-20 ICSS+IVSA 1H      FEMALES SG14      corrLever       324\n",
       "\u001b[90m# ... with 26,698 more rows\u001b[39m\n"
      ]
     },
     "metadata": {},
     "output_type": "display_data"
    }
   ],
   "source": [
    "%%R\n",
    "IVSA_data %>% print"
   ]
  },
  {
   "cell_type": "code",
   "execution_count": 8,
   "metadata": {},
   "outputs": [],
   "source": [
    "%%R\n",
    "# re-assigning data types to individual columns. This gets broken when there are missing values\n",
    "# Ideal data types\n",
    "# date   |  cohort  |  regimen   |  group   |  subjectID   |  eventType  | eventTime\n",
    "# <date> | <factor> |  <factor>  | <factor> |  <factor>    |  <factor>   |  <int> \n",
    "\n",
    "IVSA_data$cohort <- IVSA_data$cohort %>% as.factor\n",
    "IVSA_data$regimen <- IVSA_data$regimen %>% as.factor\n",
    "IVSA_data$group <- IVSA_data$group %>% as.factor\n",
    "IVSA_data$subjectID <- IVSA_data$subjectID %>% as.factor\n",
    "IVSA_data$eventType <- IVSA_data$eventType %>% as.factor"
   ]
  },
  {
   "cell_type": "code",
   "execution_count": 9,
   "metadata": {},
   "outputs": [
    {
     "data": {
      "text/plain": [
       "\u001b[90m# A tibble: 26,708 x 7\u001b[39m\n",
       "   date       cohort    regimen group   subjectID eventType eventTime\n",
       "   \u001b[3m\u001b[90m<date>\u001b[39m\u001b[23m     \u001b[3m\u001b[90m<fct>\u001b[39m\u001b[23m     \u001b[3m\u001b[90m<fct>\u001b[39m\u001b[23m   \u001b[3m\u001b[90m<fct>\u001b[39m\u001b[23m   \u001b[3m\u001b[90m<fct>\u001b[39m\u001b[23m     \u001b[3m\u001b[90m<fct>\u001b[39m\u001b[23m         \u001b[3m\u001b[90m<int>\u001b[39m\u001b[23m\n",
       "\u001b[90m 1\u001b[39m 2019-02-20 ICSS+IVSA 1H      FEMALES SG14      rewards          49\n",
       "\u001b[90m 2\u001b[39m 2019-02-20 ICSS+IVSA 1H      FEMALES SG14      rewards         323\n",
       "\u001b[90m 3\u001b[39m 2019-02-20 ICSS+IVSA 1H      FEMALES SG14      rewards         853\n",
       "\u001b[90m 4\u001b[39m 2019-02-20 ICSS+IVSA 1H      FEMALES SG14      rewards        \u001b[4m2\u001b[24m600\n",
       "\u001b[90m 5\u001b[39m 2019-02-20 ICSS+IVSA 1H      FEMALES SG14      rewards        \u001b[4m2\u001b[24m616\n",
       "\u001b[90m 6\u001b[39m 2019-02-20 ICSS+IVSA 1H      FEMALES SG14      rewards        \u001b[4m2\u001b[24m697\n",
       "\u001b[90m 7\u001b[39m 2019-02-20 ICSS+IVSA 1H      FEMALES SG14      corrLever        49\n",
       "\u001b[90m 8\u001b[39m 2019-02-20 ICSS+IVSA 1H      FEMALES SG14      corrLever        49\n",
       "\u001b[90m 9\u001b[39m 2019-02-20 ICSS+IVSA 1H      FEMALES SG14      corrLever       323\n",
       "\u001b[90m10\u001b[39m 2019-02-20 ICSS+IVSA 1H      FEMALES SG14      corrLever       324\n",
       "\u001b[90m# ... with 26,698 more rows\u001b[39m\n"
      ]
     },
     "metadata": {},
     "output_type": "display_data"
    }
   ],
   "source": [
    "%%R\n",
    "IVSA_data %>% print"
   ]
  },
  {
   "cell_type": "code",
   "execution_count": 10,
   "metadata": {},
   "outputs": [
    {
     "data": {
      "text/plain": [
       "[1] ICSS+IVSA     NO-ICSS+IVSA  ICS+IVSA      NO-ICSSS+IVSA\n",
       "Levels: ICS+IVSA ICSS+IVSA NO-ICSS+IVSA NO-ICSSS+IVSA\n"
      ]
     },
     "metadata": {},
     "output_type": "display_data"
    }
   ],
   "source": [
    "%%R\n",
    "IVSA_data$cohort %>% unique"
   ]
  },
  {
   "cell_type": "code",
   "execution_count": 40,
   "metadata": {},
   "outputs": [],
   "source": [
    "%%R\n",
    "# cleaning up data\n",
    "# replace \"ICS+IVSA\" with \"ICSS+IVSA\"\n",
    "# replace \"NO-ICSSS+IVSA\" with \"NO-ICSS+IVSA\"\n",
    "IVSA_data$cohort[IVSA_data$cohort == \"ICS+IVSA\"] <- \"ICSS+IVSA\"\n",
    "IVSA_data$cohort[IVSA_data$cohort == \"NO-ICSSS+IVSA\"] <- \"NO-ICSS+IVSA\""
   ]
  },
  {
   "cell_type": "code",
   "execution_count": 41,
   "metadata": {},
   "outputs": [
    {
     "data": {
      "text/plain": [
       "[1] ICSS+IVSA    NO-ICSS+IVSA\n",
       "Levels: ICS+IVSA ICSS+IVSA NO-ICSS+IVSA NO-ICSSS+IVSA\n"
      ]
     },
     "metadata": {},
     "output_type": "display_data"
    }
   ],
   "source": [
    "%%R\n",
    "IVSA_data$cohort %>% unique()"
   ]
  },
  {
   "cell_type": "code",
   "execution_count": 42,
   "metadata": {},
   "outputs": [
    {
     "data": {
      "text/plain": [
       "[1] 1H 6H 2H\n",
       "Levels: 1H 2H 6H\n"
      ]
     },
     "metadata": {},
     "output_type": "display_data"
    }
   ],
   "source": [
    "%%R\n",
    "IVSA_data$regimen %>% unique()"
   ]
  },
  {
   "cell_type": "code",
   "execution_count": 43,
   "metadata": {},
   "outputs": [
    {
     "data": {
      "text/plain": [
       "[1] FEMALES MALES  \n",
       "Levels: FEMALES MALES\n"
      ]
     },
     "metadata": {},
     "output_type": "display_data"
    }
   ],
   "source": [
    "%%R\n",
    "IVSA_data$group %>% unique()"
   ]
  },
  {
   "cell_type": "code",
   "execution_count": 44,
   "metadata": {},
   "outputs": [
    {
     "data": {
      "text/plain": [
       " [1] SG14  SG20  SG24  SG13  SG15  SG17  SG19  SG16  SG22  SG26  SG11  SG21 \n",
       "[13] SG23  SG126\n",
       "14 Levels: SG11 SG126 SG13 SG14 SG15 SG16 SG17 SG19 SG20 SG21 SG22 ... SG26\n"
      ]
     },
     "metadata": {},
     "output_type": "display_data"
    }
   ],
   "source": [
    "%%R\n",
    "IVSA_data$subjectID %>% unique()"
   ]
  },
  {
   "cell_type": "code",
   "execution_count": 45,
   "metadata": {},
   "outputs": [
    {
     "data": {
      "text/plain": [
       "[1] rewards     corrLever   incorrLever\n",
       "Levels: corrLever incorrLever rewards\n"
      ]
     },
     "metadata": {},
     "output_type": "display_data"
    }
   ],
   "source": [
    "%%R\n",
    "IVSA_data$eventType %>% unique"
   ]
  },
  {
   "cell_type": "code",
   "execution_count": null,
   "metadata": {},
   "outputs": [],
   "source": [
    "%%R\n",
    "# cleaning up data\n",
    "# removing subjects that we do not intend to use for further analysis\n"
   ]
  }
 ],
 "metadata": {
  "kernelspec": {
   "display_name": "Python 3",
   "language": "python",
   "name": "python3"
  },
  "language_info": {
   "codemirror_mode": {
    "name": "ipython",
    "version": 3
   },
   "file_extension": ".py",
   "mimetype": "text/x-python",
   "name": "python",
   "nbconvert_exporter": "python",
   "pygments_lexer": "ipython3",
   "version": "3.7.0"
  }
 },
 "nbformat": 4,
 "nbformat_minor": 2
}
