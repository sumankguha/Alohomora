{
 "cells": [
  {
   "cell_type": "markdown",
   "metadata": {},
   "source": [
    "# ICSS data processing for cohort01\n",
    "insert cohort information here. E.g., PM ICSS group\n",
    " \n",
    "**Group information:**\n",
    " \n",
    "|Sex    | ICSS+ShA | ICSS+LgA   |\n",
    "|:-----:|:--------:|:----------:|\n",
    "|Males  |          |            |\n",
    "|-------|----------|------------|\n",
    "|Females|          |            |\n",
    "|-------|----------|------------|\n",
    "\n",
    "surgery break dates : \n",
    "IVSA/ShA start date : \n",
    "IVSA/LgA start date :\n",
    "IVSA/LgA end date   :\n",
    "\n",
    "**OUTLINE:**\n",
    "  \n",
    "1. Setting variables\n",
    "2. Preprocessing data\n",
    "    1. Running `preprocessICSSFiles -f $filename` script \n",
    "    2. Collating all the \\.csv files that the script generates into one data table\n",
    "    3. Assign datatype to columns\n",
    "    4. Get an overview of the Dates and the Subjects\n",
    "    5. Filter out unrequired subjects\n",
    "3. Plotting pre-/post-surgery days to determine baseline\n",
    "4. Annotating data\n",
    "5. Normalize data\n",
    "    1. Theta0\n",
    "    2. M50\n",
    "    3. MaxRate\n",
    "6. Save data\n",
    "    1. Longform for R\n",
    "        1. Collated raw data for for all passes\n",
    "            1. Theta0\n",
    "            2. M50\n",
    "            3. MaxRate\n",
    "        2. Collated means for for Pass 2-4\n",
    "            1. Theta0\n",
    "            2. M50\n",
    "            3. MaxRate\n",
    "        3. Normalized means for Pass 2-4\n",
    "            1. Theta0\n",
    "            2. M50\n",
    "            3. MaxRate\n",
    "    2. Wideform for Prism\n",
    "---"
   ]
  },
  {
   "cell_type": "markdown",
   "metadata": {},
   "source": []
  }
 ],
 "metadata": {
  "kernelspec": {
   "display_name": "Python 3",
   "language": "python",
   "name": "python3"
  },
  "language_info": {
   "codemirror_mode": {
    "name": "ipython",
    "version": 3
   },
   "file_extension": ".py",
   "mimetype": "text/x-python",
   "name": "python",
   "nbconvert_exporter": "python",
   "pygments_lexer": "ipython3",
   "version": "3.7.0"
  }
 },
 "nbformat": 4,
 "nbformat_minor": 2
}
