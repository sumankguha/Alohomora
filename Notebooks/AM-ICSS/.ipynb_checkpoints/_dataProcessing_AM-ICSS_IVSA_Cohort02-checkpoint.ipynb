{
 "cells": [
  {
   "cell_type": "markdown",
   "metadata": {},
   "source": [
    "# IVSA analysis of cohort02 (AM-ICSS group)\n",
    "\n",
    "**Note:**\n",
    "Edits made to IVSA original file !2019-04-05 to remove data of Cohort02\n",
    "\n",
    "**METADATA:**\n",
    " \n",
    "|Sex    | ICSS+ShA | ICSS+LgA      |\n",
    "|:-----:|:--------:|:-------------:|\n",
    "|Males  | NULL     | NC1, NC3, NC7 |\n",
    "|-------|----------|---------------|\n",
    "|Females| NULL     | NC4, NC6, NC8 |\n",
    "|-------|----------|---------------|\n",
    "\n",
    "**OUTLINE:**\n",
    "\n",
    "1. Preprocessing data\n",
    "    1. Running `preprocessIVSAfiles` to generate \\.csv files from MedPC text files\n",
    "    2. Running `collateIVSAData` to create data frame\n",
    "    3. Collating all animals across all days into single dataframe\n",
    "2. Cleaning data\n",
    "3. Saving collated data\n",
    "---"
   ]
  },
  {
   "cell_type": "code",
   "execution_count": 1,
   "metadata": {},
   "outputs": [],
   "source": [
    "%load_ext rpy2.ipython"
   ]
  },
  {
   "cell_type": "code",
   "execution_count": 2,
   "metadata": {},
   "outputs": [],
   "source": [
    "%%capture\n",
    "%%R\n",
    "library(tidyverse)\n",
    "library(lubridate)"
   ]
  },
  {
   "cell_type": "markdown",
   "metadata": {},
   "source": [
    "---"
   ]
  },
  {
   "cell_type": "markdown",
   "metadata": {},
   "source": [
    "## 1. Preprocessing data"
   ]
  },
  {
   "cell_type": "code",
   "execution_count": 37,
   "metadata": {},
   "outputs": [],
   "source": [
    "%%bash\n",
    "# # 1.1. using the preprocessIVSAFiles script to parse MedPC files and generating csv files that has different event types\n",
    "# # defining userName to make running the cell in machine agnostic manner\n",
    "# userName=$(echo $USER)\n",
    "# \n",
    "# # We move to the folder where the cohort data is stored\n",
    "# # cd </path/to/cohort/data>\n",
    "# cd /Users/$userName/Dropbox\\ \\(Partners\\ HealthCare\\)/Projects/R01_2017_OxycSA-NASh-Glutamate/_data_R01_2017/_data_R01_2017_IVSA/Male-Female/ShA+LgA/AM_ICSS/Cohort02/_rigFiles\n",
    "# \n",
    "# # running the preprocessing script over all files in the directory\n",
    "# for fileName in $(ls \\!2019-0* | sort)\n",
    "# do\n",
    "#     preprocessIVSAFiles --file $fileName;\n",
    "# done"
   ]
  },
  {
   "cell_type": "code",
   "execution_count": null,
   "metadata": {},
   "outputs": [],
   "source": [
    "%%capture\n",
    "%%bash\n",
    "# # 1.2. using collateIVSAData to collate all the data into a single data frame of the format ...\n",
    "# # DATA TABLE DESCRIPTION:\n",
    "# # \n",
    "# #   date       |  cohort      | regimen   | group | subjectID | eventType   | eventTime\n",
    "# #   -----------|--------------|-----------|-------|-----------|-------------|-----------\n",
    "# #   2018-10-30 |  ICSS+IVSA   | 6H        | MALES | SG7       | rewards     | ...\n",
    "# #   -----------|--------------|-----------|-------|-----------|-------------|-----------\n",
    "# #   2018-10-30 |  ICSS+IVSA   | 6H        | MALES | SG7       | corrLever   | ...\n",
    "# #   -----------|--------------|-----------|-------|-----------|-------------|-----------\n",
    "# #   2018-10-30 |  ICSS+IVSA   | 6H        | MALES | SG7       | incorrLever | ...\n",
    "# #   ...\n",
    "# #   ...\n",
    "# #   ...\n",
    "# \n",
    "# userName=$(echo $USER)\n",
    "# \n",
    "# # We move to the folder where the cohort files are stored\n",
    "# # cd </path/to/cohort/data>\n",
    "# cd /Users/$userName/Dropbox\\ \\(Partners\\ HealthCare\\)/Projects/R01_2017_OxycSA-NASh-Glutamate/_data_R01_2017/_data_R01_2017_IVSA/Male-Female/ShA+LgA/PM_ICSS/Cohort01/_csvFiles\n",
    "# \n",
    "# # running the preprocessing script over all files in the directory\n",
    "# for fileName in $(ls *rewards.csv | sort)\n",
    "# do\n",
    "#     collateIVSAData $fileName;\n",
    "# done"
   ]
  },
  {
   "cell_type": "code",
   "execution_count": 3,
   "metadata": {},
   "outputs": [],
   "source": [
    "%%capture\n",
    "%%R\n",
    "# 1.3. Collating all animals across days into single dataframe\n",
    "# loading data: set the path to \n",
    "IVSA_dataDir <- \"~/Dropbox (Partners HealthCare)/Projects/R01_2017_OxycSA-NASh-Glutamate/_data_R01_2017/_data_R01_2017_IVSA/Male-Female/ShA+LgA/AM_ICSS/Cohort02/_csvFiles\"\n",
    "IVSA_fileList <- list.files(path = IVSA_dataDir, pattern = \"collated.csv\")\n",
    "## generating combined data table\n",
    "IVSA_data <- IVSA_fileList %>% map(~ read_csv(file.path(IVSA_dataDir, .))) %>% reduce(rbind)"
   ]
  },
  {
   "cell_type": "markdown",
   "metadata": {},
   "source": [
    "---\n",
    "## 2. Cleaning data"
   ]
  },
  {
   "cell_type": "code",
   "execution_count": 4,
   "metadata": {},
   "outputs": [
    {
     "data": {
      "text/plain": [
       "\u001b[90m# A tibble: 24,643 x 7\u001b[39m\n",
       "   date       cohort    regimen group   subjectID eventType eventTime\n",
       "   \u001b[3m\u001b[90m<date>\u001b[39m\u001b[23m     \u001b[3m\u001b[90m<chr>\u001b[39m\u001b[23m     \u001b[3m\u001b[90m<chr>\u001b[39m\u001b[23m   \u001b[3m\u001b[90m<chr>\u001b[39m\u001b[23m   \u001b[3m\u001b[90m<chr>\u001b[39m\u001b[23m     \u001b[3m\u001b[90m<chr>\u001b[39m\u001b[23m         \u001b[3m\u001b[90m<dbl>\u001b[39m\u001b[23m\n",
       "\u001b[90m 1\u001b[39m 2018-11-01 ICSS+IVSA 1H      FEMALES NC4       rewards           4\n",
       "\u001b[90m 2\u001b[39m 2018-11-01 ICSS+IVSA 1H      FEMALES NC4       rewards          16\n",
       "\u001b[90m 3\u001b[39m 2018-11-01 ICSS+IVSA 1H      FEMALES NC4       rewards          50\n",
       "\u001b[90m 4\u001b[39m 2018-11-01 ICSS+IVSA 1H      FEMALES NC4       rewards          69\n",
       "\u001b[90m 5\u001b[39m 2018-11-01 ICSS+IVSA 1H      FEMALES NC4       rewards         456\n",
       "\u001b[90m 6\u001b[39m 2018-11-01 ICSS+IVSA 1H      FEMALES NC4       rewards         467\n",
       "\u001b[90m 7\u001b[39m 2018-11-01 ICSS+IVSA 1H      FEMALES NC4       rewards         479\n",
       "\u001b[90m 8\u001b[39m 2018-11-01 ICSS+IVSA 1H      FEMALES NC4       rewards        \u001b[4m1\u001b[24m569\n",
       "\u001b[90m 9\u001b[39m 2018-11-01 ICSS+IVSA 1H      FEMALES NC4       rewards        \u001b[4m2\u001b[24m571\n",
       "\u001b[90m10\u001b[39m 2018-11-01 ICSS+IVSA 1H      FEMALES NC4       rewards        \u001b[4m2\u001b[24m596\n",
       "\u001b[90m# ... with 24,633 more rows\u001b[39m\n"
      ]
     },
     "metadata": {},
     "output_type": "display_data"
    }
   ],
   "source": [
    "%%R\n",
    "IVSA_data %>% print"
   ]
  },
  {
   "cell_type": "code",
   "execution_count": 5,
   "metadata": {},
   "outputs": [],
   "source": [
    "%%R\n",
    "# re-assigning data types to individual columns. This gets broken when there are missing values\n",
    "# Ideal data types\n",
    "# date   |  cohort  |  regimen   |  group   |  subjectID   |  eventType  | eventTime\n",
    "# <date> | <factor> |  <factor>  | <factor> |  <factor>    |  <factor>   |  <int> \n",
    "\n",
    "IVSA_data$cohort <- IVSA_data$cohort %>% as.factor\n",
    "IVSA_data$regimen <- IVSA_data$regimen %>% as.factor\n",
    "IVSA_data$group <- IVSA_data$group %>% as.factor\n",
    "IVSA_data$subjectID <- IVSA_data$subjectID %>% as.factor\n",
    "IVSA_data$eventType <- IVSA_data$eventType %>% as.factor"
   ]
  },
  {
   "cell_type": "code",
   "execution_count": 6,
   "metadata": {},
   "outputs": [
    {
     "data": {
      "text/plain": [
       "\u001b[90m# A tibble: 24,643 x 7\u001b[39m\n",
       "   date       cohort    regimen group   subjectID eventType eventTime\n",
       "   \u001b[3m\u001b[90m<date>\u001b[39m\u001b[23m     \u001b[3m\u001b[90m<fct>\u001b[39m\u001b[23m     \u001b[3m\u001b[90m<fct>\u001b[39m\u001b[23m   \u001b[3m\u001b[90m<fct>\u001b[39m\u001b[23m   \u001b[3m\u001b[90m<fct>\u001b[39m\u001b[23m     \u001b[3m\u001b[90m<fct>\u001b[39m\u001b[23m         \u001b[3m\u001b[90m<dbl>\u001b[39m\u001b[23m\n",
       "\u001b[90m 1\u001b[39m 2018-11-01 ICSS+IVSA 1H      FEMALES NC4       rewards           4\n",
       "\u001b[90m 2\u001b[39m 2018-11-01 ICSS+IVSA 1H      FEMALES NC4       rewards          16\n",
       "\u001b[90m 3\u001b[39m 2018-11-01 ICSS+IVSA 1H      FEMALES NC4       rewards          50\n",
       "\u001b[90m 4\u001b[39m 2018-11-01 ICSS+IVSA 1H      FEMALES NC4       rewards          69\n",
       "\u001b[90m 5\u001b[39m 2018-11-01 ICSS+IVSA 1H      FEMALES NC4       rewards         456\n",
       "\u001b[90m 6\u001b[39m 2018-11-01 ICSS+IVSA 1H      FEMALES NC4       rewards         467\n",
       "\u001b[90m 7\u001b[39m 2018-11-01 ICSS+IVSA 1H      FEMALES NC4       rewards         479\n",
       "\u001b[90m 8\u001b[39m 2018-11-01 ICSS+IVSA 1H      FEMALES NC4       rewards        \u001b[4m1\u001b[24m569\n",
       "\u001b[90m 9\u001b[39m 2018-11-01 ICSS+IVSA 1H      FEMALES NC4       rewards        \u001b[4m2\u001b[24m571\n",
       "\u001b[90m10\u001b[39m 2018-11-01 ICSS+IVSA 1H      FEMALES NC4       rewards        \u001b[4m2\u001b[24m596\n",
       "\u001b[90m# ... with 24,633 more rows\u001b[39m\n"
      ]
     },
     "metadata": {},
     "output_type": "display_data"
    }
   ],
   "source": [
    "%%R\n",
    "IVSA_data %>% print"
   ]
  },
  {
   "cell_type": "code",
   "execution_count": 7,
   "metadata": {},
   "outputs": [
    {
     "data": {
      "text/plain": [
       " [1] \"2018-11-01\" \"2018-11-02\" \"2018-11-05\" \"2018-11-06\" \"2018-11-07\"\n",
       " [6] \"2018-11-08\" \"2018-11-09\" \"2018-11-12\" \"2018-11-13\" \"2018-11-14\"\n",
       "[11] \"2018-11-15\" \"2018-11-16\" \"2018-11-19\" \"2018-11-20\" \"2018-11-21\"\n",
       "[16] \"2018-11-22\" \"2018-11-23\" \"2018-11-26\" \"2018-11-27\" \"2018-11-28\"\n",
       "[21] \"2018-11-29\" \"2018-11-30\" \"2018-12-14\"\n"
      ]
     },
     "metadata": {},
     "output_type": "display_data"
    }
   ],
   "source": [
    "%%R\n",
    "IVSA_data$date %>% unique"
   ]
  },
  {
   "cell_type": "code",
   "execution_count": 8,
   "metadata": {},
   "outputs": [
    {
     "data": {
      "text/plain": [
       "[1] ICSS+IVSA  ICVSS+IVSA\n",
       "Levels: ICSS+IVSA ICVSS+IVSA\n"
      ]
     },
     "metadata": {},
     "output_type": "display_data"
    }
   ],
   "source": [
    "%%R\n",
    "IVSA_data$cohort %>% unique"
   ]
  },
  {
   "cell_type": "code",
   "execution_count": 9,
   "metadata": {},
   "outputs": [],
   "source": [
    "%%R\n",
    "# cleaning up data\n",
    "# replace \"ICS+IVSA\" with \"ICSS+IVSA\"\n",
    "# replace \"NO-ICSSS+IVSA\" with \"NO-ICSS+IVSA\"\n",
    "IVSA_data$cohort[IVSA_data$cohort == \"ICVSS+IVSA\"] <- \"ICSS+IVSA\"\n",
    "#IVSA_data$cohort[IVSA_data$cohort == \"NO-ICSSS+IVSA\"] <- \"NO-ICSS+IVSA\""
   ]
  },
  {
   "cell_type": "code",
   "execution_count": 10,
   "metadata": {},
   "outputs": [
    {
     "data": {
      "text/plain": [
       "[1] ICSS+IVSA\n",
       "Levels: ICSS+IVSA ICVSS+IVSA\n"
      ]
     },
     "metadata": {},
     "output_type": "display_data"
    }
   ],
   "source": [
    "%%R\n",
    "IVSA_data$cohort %>% unique()"
   ]
  },
  {
   "cell_type": "code",
   "execution_count": 11,
   "metadata": {},
   "outputs": [
    {
     "data": {
      "text/plain": [
       "[1] 1H 6H 3H\n",
       "Levels: 1H 3H 6H\n"
      ]
     },
     "metadata": {},
     "output_type": "display_data"
    }
   ],
   "source": [
    "%%R\n",
    "IVSA_data$regimen %>% unique()"
   ]
  },
  {
   "cell_type": "code",
   "execution_count": 12,
   "metadata": {},
   "outputs": [
    {
     "data": {
      "text/plain": [
       "[1] FEMALES MALES  \n",
       "Levels: FEMALES MALES\n"
      ]
     },
     "metadata": {},
     "output_type": "display_data"
    }
   ],
   "source": [
    "%%R\n",
    "IVSA_data$group %>% unique()"
   ]
  },
  {
   "cell_type": "code",
   "execution_count": 13,
   "metadata": {},
   "outputs": [
    {
     "data": {
      "text/plain": [
       "[1] NC4  NC6  NC8  SG10 NC1  NC3  NC7  SG9 \n",
       "Levels: NC1 NC3 NC4 NC6 NC7 NC8 SG10 SG9\n"
      ]
     },
     "metadata": {},
     "output_type": "display_data"
    }
   ],
   "source": [
    "%%R\n",
    "IVSA_data$subjectID %>% unique()"
   ]
  },
  {
   "cell_type": "code",
   "execution_count": 15,
   "metadata": {},
   "outputs": [
    {
     "data": {
      "text/plain": [
       "\u001b[90m# A tibble: 17,882 x 7\u001b[39m\n",
       "   date       cohort    regimen group   subjectID eventType eventTime\n",
       "   \u001b[3m\u001b[90m<date>\u001b[39m\u001b[23m     \u001b[3m\u001b[90m<fct>\u001b[39m\u001b[23m     \u001b[3m\u001b[90m<fct>\u001b[39m\u001b[23m   \u001b[3m\u001b[90m<fct>\u001b[39m\u001b[23m   \u001b[3m\u001b[90m<fct>\u001b[39m\u001b[23m     \u001b[3m\u001b[90m<fct>\u001b[39m\u001b[23m         \u001b[3m\u001b[90m<dbl>\u001b[39m\u001b[23m\n",
       "\u001b[90m 1\u001b[39m 2018-11-01 ICSS+IVSA 1H      FEMALES NC4       rewards           4\n",
       "\u001b[90m 2\u001b[39m 2018-11-01 ICSS+IVSA 1H      FEMALES NC4       rewards          16\n",
       "\u001b[90m 3\u001b[39m 2018-11-01 ICSS+IVSA 1H      FEMALES NC4       rewards          50\n",
       "\u001b[90m 4\u001b[39m 2018-11-01 ICSS+IVSA 1H      FEMALES NC4       rewards          69\n",
       "\u001b[90m 5\u001b[39m 2018-11-01 ICSS+IVSA 1H      FEMALES NC4       rewards         456\n",
       "\u001b[90m 6\u001b[39m 2018-11-01 ICSS+IVSA 1H      FEMALES NC4       rewards         467\n",
       "\u001b[90m 7\u001b[39m 2018-11-01 ICSS+IVSA 1H      FEMALES NC4       rewards         479\n",
       "\u001b[90m 8\u001b[39m 2018-11-01 ICSS+IVSA 1H      FEMALES NC4       rewards        \u001b[4m1\u001b[24m569\n",
       "\u001b[90m 9\u001b[39m 2018-11-01 ICSS+IVSA 1H      FEMALES NC4       rewards        \u001b[4m2\u001b[24m571\n",
       "\u001b[90m10\u001b[39m 2018-11-01 ICSS+IVSA 1H      FEMALES NC4       rewards        \u001b[4m2\u001b[24m596\n",
       "\u001b[90m# ... with 17,872 more rows\u001b[39m\n"
      ]
     },
     "metadata": {},
     "output_type": "display_data"
    }
   ],
   "source": [
    "%%R\n",
    "IVSA_data <- IVSA_data %>% filter(\n",
    "   subjectID == \"NC1\" | \n",
    "   subjectID == \"NC3\" | \n",
    "   subjectID == \"NC7\" | \n",
    "   subjectID == \"NC4\" | \n",
    "   subjectID == \"NC6\" | \n",
    "   subjectID == \"NC8\") %>% print"
   ]
  },
  {
   "cell_type": "code",
   "execution_count": 16,
   "metadata": {},
   "outputs": [
    {
     "data": {
      "text/plain": [
       "[1] NC4 NC6 NC8 NC1 NC3 NC7\n",
       "Levels: NC1 NC3 NC4 NC6 NC7 NC8 SG10 SG9\n"
      ]
     },
     "metadata": {},
     "output_type": "display_data"
    }
   ],
   "source": [
    "%%R\n",
    "IVSA_data$subjectID %>% unique"
   ]
  },
  {
   "cell_type": "code",
   "execution_count": 17,
   "metadata": {},
   "outputs": [
    {
     "data": {
      "text/plain": [
       "[1] rewards     corrLever   incorrLever\n",
       "Levels: corrLever incorrLever rewards\n"
      ]
     },
     "metadata": {},
     "output_type": "display_data"
    }
   ],
   "source": [
    "%%R\n",
    "IVSA_data$eventType %>% unique"
   ]
  },
  {
   "cell_type": "markdown",
   "metadata": {},
   "source": [
    "---\n",
    "3. Saving data"
   ]
  },
  {
   "cell_type": "code",
   "execution_count": 18,
   "metadata": {},
   "outputs": [],
   "source": [
    "%%R\n",
    "write_csv(IVSA_data, file.path(IVSA_dataDir, \"_ivsaData_am_cohort02.csv\"))"
   ]
  },
  {
   "cell_type": "markdown",
   "metadata": {},
   "source": [
    "---\n",
    "Author: Suman K. Guha <br/>\n",
    "Date: April 19, 2019"
   ]
  },
  {
   "cell_type": "code",
   "execution_count": null,
   "metadata": {},
   "outputs": [],
   "source": []
  }
 ],
 "metadata": {
  "kernelspec": {
   "display_name": "Python 3",
   "language": "python",
   "name": "python3"
  },
  "language_info": {
   "codemirror_mode": {
    "name": "ipython",
    "version": 3
   },
   "file_extension": ".py",
   "mimetype": "text/x-python",
   "name": "python",
   "nbconvert_exporter": "python",
   "pygments_lexer": "ipython3",
   "version": "3.7.2"
  }
 },
 "nbformat": 4,
 "nbformat_minor": 2
}
